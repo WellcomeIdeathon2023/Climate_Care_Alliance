{
 "cells": [
  {
   "cell_type": "markdown",
   "id": "89fd35c5",
   "metadata": {},
   "source": [
    "## Spatiotemporal Analysis of Ashma vs PM2.5 cases across the US"
   ]
  },
  {
   "cell_type": "markdown",
   "id": "b710c0df",
   "metadata": {},
   "source": [
    "### Data Source: Centers for Disease Control and Prevention (CDC)"
   ]
  },
  {
   "cell_type": "markdown",
   "id": "d9d30f02",
   "metadata": {},
   "source": [
    "### Data Loading and Cleaning"
   ]
  },
  {
   "cell_type": "code",
   "execution_count": null,
   "id": "b6610cb7",
   "metadata": {},
   "outputs": [],
   "source": [
    "import pandas as pd\n",
    "import re\n",
    "import warnings\n",
    "warnings.filterwarnings('ignore')\n",
    "\n",
    "AQ = pd.read_csv('AQ_PM25.csv', encoding='ISO-8859-1')\n",
    "Asthma = pd.read_csv('Asthma.csv', encoding='ISO-8859-1')\n"
   ]
  },
  {
   "cell_type": "code",
   "execution_count": null,
   "id": "246d3b8b",
   "metadata": {},
   "outputs": [],
   "source": [
    "AQ = AQ.drop(['StateFIPS', 'CountyFIPS','CountyFIPS','County','Data Comment'], axis=1)\n",
    "AQ"
   ]
  },
  {
   "cell_type": "code",
   "execution_count": null,
   "id": "34782cdc",
   "metadata": {},
   "outputs": [],
   "source": [
    "Asthma = Asthma.drop(['StateFIPS', 'Data Comment'], axis=1)\n",
    "Asthma"
   ]
  },
  {
   "cell_type": "markdown",
   "id": "6f31a6b3",
   "metadata": {},
   "source": [
    "### Data Wrangling"
   ]
  },
  {
   "cell_type": "code",
   "execution_count": null,
   "id": "991110bc",
   "metadata": {},
   "outputs": [],
   "source": [
    "import matplotlib.pyplot as plt\n",
    "gender = Asthma['Gender'].value_counts()\n",
    "gender.plot(kind='bar')\n",
    "\n",
    "plt.title('Asthma cases across gender')\n",
    "plt.xlabel('Gender')\n",
    "plt.ylabel('Counts')\n",
    "plt.grid(True)\n",
    "plt.show()"
   ]
  },
  {
   "cell_type": "code",
   "execution_count": null,
   "id": "ec7e30ed",
   "metadata": {},
   "outputs": [],
   "source": [
    "new_df_org = pd.merge(Asthma, AQ,  how='left', left_on=['State','Year'], right_on = ['State','Year']) \n",
    "new_df_org"
   ]
  },
  {
   "cell_type": "code",
   "execution_count": null,
   "id": "45b8843d",
   "metadata": {},
   "outputs": [],
   "source": [
    "import matplotlib.pyplot as plt\n",
    "import geopandas\n",
    "import geopandas as gpd\n",
    "import pandas as pd\n",
    "import numpy as np\n",
    "import folium\n",
    "from folium.features import GeoJsonTooltip"
   ]
  },
  {
   "cell_type": "code",
   "execution_count": null,
   "id": "409bc50e",
   "metadata": {},
   "outputs": [],
   "source": [
    "#Read the geoJSON file using geopandas\n",
    "geojson = gpd.read_file(r'georef-united-states-of-america-county.geojson')\n",
    "geojson=geojson[['geometry','ste_name']] \n",
    "\n",
    "geojson['ste_name'] = geojson['ste_name'].str[0]\n",
    "geojson"
   ]
  },
  {
   "cell_type": "code",
   "execution_count": null,
   "id": "d5511a5d",
   "metadata": {},
   "outputs": [],
   "source": [
    "df_final = geojson.merge(new_df_org, left_on=\"ste_name\", right_on=\"State\", how=\"outer\") \n",
    "df_final = df_final[~df_final['geometry'].isna()]\n",
    "df_final"
   ]
  },
  {
   "cell_type": "code",
   "execution_count": null,
   "id": "2ce9f1f5",
   "metadata": {},
   "outputs": [],
   "source": [
    "correlation = df_final.groupby('ste_name').apply(lambda x: x['PM25'].corr(x['Asthma']))\n",
    "\n",
    "correlation\n",
    "\n",
    "correlation = correlation.reset_index()\n",
    "correlation.columns = ['State', 'correlation']\n",
    "\n",
    "correlation"
   ]
  },
  {
   "cell_type": "code",
   "execution_count": null,
   "id": "79cea3f3",
   "metadata": {},
   "outputs": [],
   "source": [
    "df_final_cor = geojson.merge(correlation, left_on=\"ste_name\", right_on=\"State\", how=\"outer\") \n",
    "df_final_cor"
   ]
  },
  {
   "cell_type": "code",
   "execution_count": null,
   "id": "37aea4ca",
   "metadata": {},
   "outputs": [],
   "source": [
    "us_map2 = folium.Map(location=[40, -96], zoom_start=4,tiles='openstreetmap')"
   ]
  },
  {
   "cell_type": "code",
   "execution_count": null,
   "id": "bdd97c8e",
   "metadata": {},
   "outputs": [],
   "source": [
    "custom_scale = (df_final_cor['correlation'].quantile((0,0.2,0.4,0.6,0.8,1))).tolist()\n",
    "folium.Choropleth(\n",
    "            geo_data=geojson,\n",
    "            data=df_final_cor,\n",
    "            columns=['State', 'correlation'],\n",
    "            key_on='feature.properties.ste_name',\n",
    "            fill_color='YlOrRd',\n",
    "            nan_fill_color=\"White\", #Use white color if there is no data available for the county\n",
    "            fill_opacity=0.7,\n",
    "            line_opacity=0.2,\n",
    "            highlight=True,#Here we tell folium to get the county fips and plot new_cases_7days metric for each county\n",
    "            ).add_to(us_map2) \n",
    "us_map2"
   ]
  },
  {
   "cell_type": "code",
   "execution_count": null,
   "id": "120cf125",
   "metadata": {},
   "outputs": [],
   "source": []
  }
 ],
 "metadata": {
  "kernelspec": {
   "display_name": "Python 3 (ipykernel)",
   "language": "python",
   "name": "python3"
  },
  "language_info": {
   "codemirror_mode": {
    "name": "ipython",
    "version": 3
   },
   "file_extension": ".py",
   "mimetype": "text/x-python",
   "name": "python",
   "nbconvert_exporter": "python",
   "pygments_lexer": "ipython3",
   "version": "3.10.9"
  }
 },
 "nbformat": 4,
 "nbformat_minor": 5
}
