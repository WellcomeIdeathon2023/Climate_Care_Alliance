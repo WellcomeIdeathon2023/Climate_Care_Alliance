{
 "cells": [
  {
   "cell_type": "markdown",
   "id": "051fb7da",
   "metadata": {},
   "source": [
    "# Spatiotemporal Analysis of UV Drought VS Stroke cases across the US"
   ]
  },
  {
   "cell_type": "markdown",
   "id": "8db8acad",
   "metadata": {},
   "source": [
    "### Data Source: Centers for Disease Control and Prevention (CDC)"
   ]
  },
  {
   "cell_type": "markdown",
   "id": "5d52a5f2",
   "metadata": {},
   "source": [
    "### Data Loading and Cleaning"
   ]
  },
  {
   "cell_type": "code",
   "execution_count": null,
   "id": "6caf72c5",
   "metadata": {},
   "outputs": [],
   "source": [
    "import pandas as pd\n",
    "import re\n",
    "import warnings\n",
    "warnings.filterwarnings('ignore')\n",
    "\n",
    "stroke = pd.read_csv('Stroke.csv', encoding='ISO-8859-1')\n",
    "drought = pd.read_csv('Drought.csv', encoding='ISO-8859-1')"
   ]
  },
  {
   "cell_type": "code",
   "execution_count": null,
   "id": "ccab0c13",
   "metadata": {},
   "outputs": [],
   "source": [
    "stroke"
   ]
  },
  {
   "cell_type": "markdown",
   "id": "738862b3",
   "metadata": {},
   "source": [
    "## Data Wrangling"
   ]
  },
  {
   "cell_type": "code",
   "execution_count": null,
   "id": "6f41b78f",
   "metadata": {},
   "outputs": [],
   "source": [
    "def remove_parentheses(s):\n",
    "    return re.sub(r'\\([^)]*\\)', '', s)"
   ]
  },
  {
   "cell_type": "code",
   "execution_count": null,
   "id": "7b865d2a",
   "metadata": {},
   "outputs": [],
   "source": [
    "stroke = stroke.drop(['StateFIPS', 'CountyFIPS','CountyFIPS','County','End Year','Data Comment'], axis=1)\n",
    "stroke = stroke[stroke.Value != \"Insufficient Data\"]\n",
    "stroke['Race/Ethnicity'] = stroke['Race/Ethnicity'].str.replace(', not including Hispanic', '', regex=False)\n",
    "stroke = stroke.rename(columns={'Start Year': 'Year'})\n",
    "stroke"
   ]
  },
  {
   "cell_type": "code",
   "execution_count": null,
   "id": "d75d5362",
   "metadata": {},
   "outputs": [],
   "source": [
    "drought"
   ]
  },
  {
   "cell_type": "code",
   "execution_count": null,
   "id": "5a6d8d02",
   "metadata": {},
   "outputs": [],
   "source": [
    "drought = drought.drop(['StateFIPS', 'CountyFIPS','CountyFIPS','County','Cumulative Drought Severity','Data Comment'], axis=1)\n",
    "drought"
   ]
  },
  {
   "cell_type": "markdown",
   "id": "c477c8e3",
   "metadata": {},
   "source": [
    "## Stroke count across Race/Ethnicity"
   ]
  },
  {
   "cell_type": "code",
   "execution_count": null,
   "id": "49b8106b",
   "metadata": {},
   "outputs": [],
   "source": [
    "import matplotlib.pyplot as plt\n",
    "race = stroke['Race/Ethnicity'].value_counts()\n",
    "race.plot(kind='bar')\n",
    "\n",
    "plt.title('stroke Counts of Race / Ethnicity')\n",
    "plt.xlabel('Ethnicity')\n",
    "plt.ylabel('Counts')\n",
    "plt.grid(True)\n",
    "plt.show()"
   ]
  },
  {
   "cell_type": "markdown",
   "id": "136979e5",
   "metadata": {},
   "source": [
    "## Stroke count across Sex"
   ]
  },
  {
   "cell_type": "code",
   "execution_count": null,
   "id": "625797df",
   "metadata": {},
   "outputs": [],
   "source": [
    "import matplotlib.pyplot as plt\n",
    "sex = stroke['Gender'].value_counts()\n",
    "sex.plot(kind='bar')\n",
    "\n",
    "plt.title('stroke Counts of Sex')\n",
    "plt.xlabel('Sex')\n",
    "plt.ylabel('Counts')\n",
    "plt.grid(True)\n",
    "plt.show()"
   ]
  },
  {
   "cell_type": "code",
   "execution_count": null,
   "id": "d8f208c2",
   "metadata": {},
   "outputs": [],
   "source": [
    "stroke['Value'] = stroke['Value'].astype(float)\n",
    "stroke_ttl = stroke.groupby(\"State\")[\"Value\"].sum().reset_index()\n",
    "\n",
    "# Sort the data in descending order (states with highest average cancer count will be on top)\n",
    "stroke_ttl = stroke_ttl.sort_values(by=\"Value\", ascending=False)\n",
    "\n",
    "# Plot the data\n",
    "plt.figure(figsize=(10, 8))\n",
    "plt.barh(stroke_ttl['State'], stroke_ttl['Value'], color='skyblue')\n",
    "plt.xlabel('Toral stroke')\n",
    "plt.ylabel('State')\n",
    "plt.title('Total stroke by State in 2018')\n",
    "plt.gca().invert_yaxis()  # invert the y-axis so that states with higher values are on top\n",
    "plt.show()"
   ]
  },
  {
   "cell_type": "code",
   "execution_count": null,
   "id": "665fe3b1",
   "metadata": {},
   "outputs": [],
   "source": [
    "drought_avg = drought.groupby(\"State\")[\"Value\"].mean().reset_index()\n",
    "\n",
    "# Sort the data in descending order (states with highest average cancer count will be on top)\n",
    "drought_avg = drought_avg.sort_values(by=\"Value\", ascending=False)\n",
    "\n",
    "# Plot the data\n",
    "plt.figure(figsize=(10, 8))\n",
    "plt.barh(drought_avg['State'], drought_avg['Value'], color='skyblue')\n",
    "plt.xlabel('Average drought')\n",
    "plt.ylabel('State')\n",
    "plt.title('Average consecutive weeks of drought by State over Year 2018')\n",
    "plt.gca().invert_yaxis()  # invert the y-axis so that states with higher values are on top\n",
    "plt.show()"
   ]
  },
  {
   "cell_type": "code",
   "execution_count": null,
   "id": "ff98ff0b",
   "metadata": {},
   "outputs": [],
   "source": [
    "import matplotlib.pyplot as plt\n",
    "import geopandas\n",
    "import geopandas as gpd\n",
    "import pandas as pd\n",
    "import numpy as np\n",
    "import folium\n",
    "from folium.features import GeoJsonTooltip"
   ]
  },
  {
   "cell_type": "code",
   "execution_count": null,
   "id": "c5805d1e",
   "metadata": {},
   "outputs": [],
   "source": [
    "#Read the geoJSON file using geopandas\n",
    "geojson = gpd.read_file(r'georef-united-states-of-america-county.geojson')\n",
    "geojson=geojson[['geometry','ste_name']] \n",
    "\n",
    "geojson['ste_name'] = geojson['ste_name'].str[0]\n",
    "geojson"
   ]
  },
  {
   "cell_type": "code",
   "execution_count": null,
   "id": "ebad9f83",
   "metadata": {},
   "outputs": [],
   "source": [
    "df_final = geojson.merge(drought_avg, left_on=\"ste_name\", right_on=\"State\", how=\"outer\") \n",
    "df_final = df_final[~df_final['geometry'].isna()]\n",
    "df_final"
   ]
  },
  {
   "cell_type": "markdown",
   "id": "c41c57b0",
   "metadata": {},
   "source": [
    "## Consecutive weeks of drought by State in 2018 "
   ]
  },
  {
   "cell_type": "code",
   "execution_count": null,
   "id": "e2270a5e",
   "metadata": {},
   "outputs": [],
   "source": [
    "us_map = folium.Map(location=[40, -96], zoom_start=4,tiles='openstreetmap')"
   ]
  },
  {
   "cell_type": "code",
   "execution_count": null,
   "id": "c0d9e7fb",
   "metadata": {},
   "outputs": [],
   "source": [
    "custom_scale = (df_final['Value'].quantile((0,0.2,0.4,0.6,0.8,1))).tolist()\n",
    "folium.Choropleth(\n",
    "            geo_data=geojson,\n",
    "            data=df_final,\n",
    "            columns=['State', 'Value'],\n",
    "             key_on='feature.properties.ste_name',\n",
    "            fill_color='YlOrRd',\n",
    "            nan_fill_color=\"White\", #Use white color if there is no data available for the county\n",
    "            fill_opacity=0.7,\n",
    "            line_opacity=0.2,\n",
    "            highlight=True,#Here we tell folium to get the county fips and plot new_cases_7days metric for each county\n",
    "            ).add_to(us_map) \n",
    "us_map"
   ]
  },
  {
   "cell_type": "markdown",
   "id": "c7f53571",
   "metadata": {},
   "source": [
    "## Total stroke by State in 2018 "
   ]
  },
  {
   "cell_type": "code",
   "execution_count": null,
   "id": "d39c0782",
   "metadata": {},
   "outputs": [],
   "source": [
    "stroke_final = geojson.merge(stroke_ttl, left_on=\"ste_name\", right_on=\"State\", how=\"outer\") \n",
    "stroke_final"
   ]
  },
  {
   "cell_type": "code",
   "execution_count": null,
   "id": "986a35cf",
   "metadata": {},
   "outputs": [],
   "source": [
    "us_map1 = folium.Map(location=[40, -96], zoom_start=4,tiles='openstreetmap')"
   ]
  },
  {
   "cell_type": "code",
   "execution_count": null,
   "id": "d68c1eda",
   "metadata": {},
   "outputs": [],
   "source": [
    "custom_scale = (stroke_final['Value'].quantile((0,0.2,0.4,0.6,0.8,1))).tolist()\n",
    "folium.Choropleth(\n",
    "            geo_data=geojson,\n",
    "            data=stroke_final,\n",
    "            columns=['State', 'Value'],\n",
    "             key_on='feature.properties.ste_name',\n",
    "            fill_color='YlOrRd',\n",
    "            nan_fill_color=\"White\", #Use white color if there is no data available for the county\n",
    "            fill_opacity=0.7,\n",
    "            line_opacity=0.2,\n",
    "            highlight=True,#Here we tell folium to get the county fips and plot new_cases_7days metric for each county\n",
    "            ).add_to(us_map1) \n",
    "us_map1"
   ]
  },
  {
   "cell_type": "code",
   "execution_count": null,
   "id": "0cd1d8c6",
   "metadata": {},
   "outputs": [],
   "source": [
    "new_df_org = pd.merge(stroke_ttl, df_final,  how='left', left_on=['State'], right_on = ['State']) \n",
    "new_df_org"
   ]
  },
  {
   "cell_type": "code",
   "execution_count": null,
   "id": "c1dd4da6",
   "metadata": {},
   "outputs": [],
   "source": [
    "new_df_org = new_df_org.dropna()\n",
    "new_df_org"
   ]
  },
  {
   "cell_type": "code",
   "execution_count": null,
   "id": "4f1084d1",
   "metadata": {},
   "outputs": [],
   "source": [
    "correlation_by_year = new_df_org.groupby('ste_name').apply(lambda x: x['Value_y'].corr(x['Value_x']))\n",
    "\n",
    "correlation_by_year\n",
    "\n",
    "correlation_by_year_df = correlation_by_year.reset_index()\n",
    "correlation_by_year_df.columns = ['State', 'correlation']\n",
    "\n",
    "correlation_by_year_df"
   ]
  },
  {
   "cell_type": "code",
   "execution_count": null,
   "id": "20d6093b",
   "metadata": {},
   "outputs": [],
   "source": []
  }
 ],
 "metadata": {
  "kernelspec": {
   "display_name": "Python 3 (ipykernel)",
   "language": "python",
   "name": "python3"
  },
  "language_info": {
   "codemirror_mode": {
    "name": "ipython",
    "version": 3
   },
   "file_extension": ".py",
   "mimetype": "text/x-python",
   "name": "python",
   "nbconvert_exporter": "python",
   "pygments_lexer": "ipython3",
   "version": "3.10.9"
  }
 },
 "nbformat": 4,
 "nbformat_minor": 5
}
