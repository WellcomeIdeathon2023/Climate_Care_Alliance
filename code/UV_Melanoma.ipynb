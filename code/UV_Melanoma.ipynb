{
 "cells": [
  {
   "cell_type": "markdown",
   "id": "6226339f",
   "metadata": {},
   "source": [
    "## Spatiotemporal Analysis of UV Exposure(J/m2) VS Melanoma cases across the US"
   ]
  },
  {
   "cell_type": "markdown",
   "id": "c8afb680",
   "metadata": {},
   "source": [
    "### Data Source: Centers for Disease Control and Prevention (CDC)"
   ]
  },
  {
   "cell_type": "markdown",
   "id": "d2572db9",
   "metadata": {},
   "source": [
    "### Data Loading and Cleaning"
   ]
  },
  {
   "cell_type": "code",
   "execution_count": null,
   "id": "b2a437e0",
   "metadata": {},
   "outputs": [],
   "source": [
    "import pandas as pd\n",
    "import re\n",
    "import warnings\n",
    "warnings.filterwarnings('ignore')\n",
    "\n",
    "uv = pd.read_csv('UV.csv')\n",
    "skn = pd.read_csv('skin.csv')\n"
   ]
  },
  {
   "cell_type": "code",
   "execution_count": null,
   "id": "cb5f55b9",
   "metadata": {},
   "outputs": [],
   "source": [
    "def remove_parentheses(s):\n",
    "    return re.sub(r'\\([^)]*\\)', '', s)"
   ]
  },
  {
   "cell_type": "code",
   "execution_count": null,
   "id": "ec36604f",
   "metadata": {},
   "outputs": [],
   "source": [
    "skn_clean = skn[skn.Value != \"Suppressed\"]\n",
    "skn_clean['Race Ethnicity'] = skn_clean['Race Ethnicity'].apply(remove_parentheses)\n",
    "skn_clean = skn_clean.rename(columns={'Value': 'Melanoma_cases'})\n",
    "skn_clean"
   ]
  },
  {
   "cell_type": "markdown",
   "id": "7eb70bf3",
   "metadata": {},
   "source": [
    "## Race Ethnicity "
   ]
  },
  {
   "cell_type": "code",
   "execution_count": null,
   "id": "8cb2ae69",
   "metadata": {},
   "outputs": [],
   "source": [
    "import matplotlib.pyplot as plt\n",
    "race = skn_clean['Race Ethnicity'].value_counts()\n",
    "race.plot(kind='bar')\n",
    "\n",
    "plt.title('Value Counts of Race / Ethnicity')\n",
    "plt.xlabel('Ethnicity')\n",
    "plt.ylabel('Counts')\n",
    "plt.grid(True)\n",
    "plt.show()"
   ]
  },
  {
   "cell_type": "markdown",
   "id": "d1ffe016",
   "metadata": {},
   "source": [
    "# Sex"
   ]
  },
  {
   "cell_type": "code",
   "execution_count": null,
   "id": "fb544212",
   "metadata": {},
   "outputs": [],
   "source": [
    "sex = skn_clean['Gender'].value_counts()\n",
    "sex.plot(kind='bar')\n",
    "\n",
    "plt.title('Value Counts of Sex')\n",
    "plt.xlabel('Sex')\n",
    "plt.ylabel('Counts')\n",
    "plt.grid(True)\n",
    "plt.show()"
   ]
  },
  {
   "cell_type": "markdown",
   "id": "536f5538",
   "metadata": {},
   "source": [
    "## Temporal Analysis"
   ]
  },
  {
   "cell_type": "code",
   "execution_count": null,
   "id": "11d6cdcb",
   "metadata": {},
   "outputs": [],
   "source": [
    "skn_clean['Melanoma_cases'] = skn_clean['Melanoma_cases'].str.replace(',', '').astype(float)\n",
    "sc_avg = skn_clean.groupby(\"State\")[\"Melanoma_cases\"].mean().reset_index()\n",
    "\n",
    "# Sort the data in descending order (states with highest average cancer count will be on top)\n",
    "sc_avg = sc_avg.sort_values(by=\"Melanoma_cases\", ascending=False)\n",
    "\n",
    "# Plot the data\n",
    "plt.figure(figsize=(10, 8))\n",
    "plt.barh(sc_avg['State'], sc_avg['Melanoma_cases'], color='skyblue')\n",
    "plt.xlabel('Average Cancer Count')\n",
    "plt.ylabel('State')\n",
    "plt.title('Average Cancer Count by State over Years')\n",
    "plt.gca().invert_yaxis()  # invert the y-axis so that states with higher values are on top\n",
    "plt.show()"
   ]
  },
  {
   "cell_type": "code",
   "execution_count": null,
   "id": "06c31838",
   "metadata": {},
   "outputs": [],
   "source": [
    "uv = uv.drop(['Data Comment', 'Unnamed: 5'], axis=1)\n",
    "uv = uv.rename(columns={'Value': 'uv_exp'})\n",
    "uv"
   ]
  },
  {
   "cell_type": "code",
   "execution_count": null,
   "id": "b00c3978",
   "metadata": {},
   "outputs": [],
   "source": [
    "uv['uv_exp'] = uv['uv_exp'].str.replace(',', '').astype(float)\n",
    "uv_avg = uv.groupby(\"State\")[\"uv_exp\"].mean().reset_index()\n",
    "\n",
    "# Sort the data in descending order (states with highest average cancer count will be on top)\n",
    "uv_avg = uv_avg.sort_values(by=\"uv_exp\", ascending=False)\n",
    "\n",
    "# Plot the data\n",
    "plt.figure(figsize=(10, 8))\n",
    "plt.barh(uv_avg['State'], uv_avg['uv_exp'], color='skyblue')\n",
    "plt.xlabel('Average UV Exposure')\n",
    "plt.ylabel('State')\n",
    "plt.title('Average UV Exposure by State over Years')\n",
    "plt.gca().invert_yaxis()  # invert the y-axis so that states with higher values are on top\n",
    "plt.show()"
   ]
  },
  {
   "cell_type": "markdown",
   "id": "40782708",
   "metadata": {},
   "source": [
    "### Merging UV exposure data with Melanoma_cases data"
   ]
  },
  {
   "cell_type": "code",
   "execution_count": null,
   "id": "b01304d5",
   "metadata": {},
   "outputs": [],
   "source": [
    "uv_avg.head(5)"
   ]
  },
  {
   "cell_type": "code",
   "execution_count": null,
   "id": "22f652c5",
   "metadata": {},
   "outputs": [],
   "source": [
    "sc_avg.head(5)"
   ]
  },
  {
   "cell_type": "code",
   "execution_count": null,
   "id": "55b1e339",
   "metadata": {},
   "outputs": [],
   "source": [
    "agg_df = pd.merge(sc_avg, uv_avg,  how='left', left_on=['State'], right_on = ['State'])"
   ]
  },
  {
   "cell_type": "code",
   "execution_count": null,
   "id": "fcf7771b",
   "metadata": {},
   "outputs": [],
   "source": [
    "agg_df"
   ]
  },
  {
   "cell_type": "code",
   "execution_count": null,
   "id": "7b5c82ed",
   "metadata": {},
   "outputs": [],
   "source": [
    "import matplotlib.pyplot as plt\n",
    "import geopandas"
   ]
  },
  {
   "cell_type": "code",
   "execution_count": null,
   "id": "e5c62b4d",
   "metadata": {},
   "outputs": [],
   "source": [
    "import geopandas as gpd\n",
    "import pandas as pd\n",
    "import numpy as np\n",
    "import folium\n",
    "from folium.features import GeoJsonTooltip"
   ]
  },
  {
   "cell_type": "code",
   "execution_count": null,
   "id": "1c24d130",
   "metadata": {},
   "outputs": [],
   "source": [
    "#Read the geoJSON file using geopandas\n",
    "geojson = gpd.read_file(r'georef-united-states-of-america-county.geojson')\n",
    "geojson=geojson[['coty_code','geometry','ste_name']] \n",
    "\n",
    "\n"
   ]
  },
  {
   "cell_type": "code",
   "execution_count": null,
   "id": "311db365",
   "metadata": {},
   "outputs": [],
   "source": [
    "geojson['coty_code'] = geojson['coty_code'].str[0]\n",
    "geojson['ste_name'] = geojson['ste_name'].str[0]\n"
   ]
  },
  {
   "cell_type": "code",
   "execution_count": null,
   "id": "fc410346",
   "metadata": {},
   "outputs": [],
   "source": [
    "geojson.head()"
   ]
  },
  {
   "cell_type": "code",
   "execution_count": null,
   "id": "1c7e151b",
   "metadata": {
    "scrolled": false
   },
   "outputs": [],
   "source": [
    "df_final = geojson.merge(agg_df, left_on=\"ste_name\", right_on=\"State\", how=\"outer\") \n",
    "df_final = df_final[~df_final['geometry'].isna()]"
   ]
  },
  {
   "cell_type": "code",
   "execution_count": null,
   "id": "7bfcb8d5",
   "metadata": {},
   "outputs": [],
   "source": [
    "df_final.head(10)"
   ]
  },
  {
   "cell_type": "code",
   "execution_count": null,
   "id": "26f46db8",
   "metadata": {},
   "outputs": [],
   "source": [
    "us_map = folium.Map(location=[40, -96], zoom_start=4,tiles='openstreetmap')"
   ]
  },
  {
   "cell_type": "markdown",
   "id": "8b2a2c35",
   "metadata": {},
   "source": [
    "## UV Exposure (J/m2) across US states (Annual)"
   ]
  },
  {
   "cell_type": "code",
   "execution_count": null,
   "id": "0c605dd2",
   "metadata": {},
   "outputs": [],
   "source": [
    "custom_scale = (df_final['uv_exp'].quantile((0,0.2,0.4,0.6,0.8,1))).tolist()\n",
    "folium.Choropleth(\n",
    "            geo_data=geojson,\n",
    "            data=df_final,\n",
    "            columns=['State', 'uv_exp'],\n",
    "             key_on='feature.properties.ste_name',\n",
    "            fill_color='YlOrRd',\n",
    "            nan_fill_color=\"White\", #Use white color if there is no data available for the county\n",
    "            fill_opacity=0.7,\n",
    "            line_opacity=0.2,\n",
    "            highlight=True,#Here we tell folium to get the county fips and plot new_cases_7days metric for each county\n",
    "            ).add_to(us_map) \n",
    "us_map"
   ]
  },
  {
   "cell_type": "markdown",
   "id": "944a2816",
   "metadata": {},
   "source": [
    "## Melanoma cases across US states"
   ]
  },
  {
   "cell_type": "code",
   "execution_count": null,
   "id": "a8900dc9",
   "metadata": {},
   "outputs": [],
   "source": [
    "us_map1 = folium.Map(location=[40, -96], zoom_start=4,tiles='openstreetmap')"
   ]
  },
  {
   "cell_type": "code",
   "execution_count": null,
   "id": "a904b159",
   "metadata": {},
   "outputs": [],
   "source": [
    "custom_scale = (df_final['Melanoma_cases'].quantile((0,0.2,0.4,0.6,0.8,1))).tolist()\n",
    "folium.Choropleth(\n",
    "            geo_data=geojson,\n",
    "            data=df_final,\n",
    "            columns=['State', 'Melanoma_cases'],\n",
    "             key_on='feature.properties.ste_name',\n",
    "            fill_color='YlOrRd',\n",
    "            nan_fill_color=\"White\", #Use white color if there is no data available for the county\n",
    "            fill_opacity=0.7,\n",
    "            line_opacity=0.2,\n",
    "            highlight=True,#Here we tell folium to get the county fips and plot new_cases_7days metric for each county\n",
    "            ).add_to(us_map1) \n",
    "us_map1"
   ]
  },
  {
   "cell_type": "code",
   "execution_count": null,
   "id": "7df5a5a7",
   "metadata": {},
   "outputs": [],
   "source": [
    "new_df_org = pd.merge(skn_clean, uv,  how='left', left_on=['State','Year'], right_on = ['State','Year']) \n",
    "new_df_org.dtypes"
   ]
  },
  {
   "cell_type": "code",
   "execution_count": null,
   "id": "e3c5b2ce",
   "metadata": {},
   "outputs": [],
   "source": [
    "new_df_org"
   ]
  },
  {
   "cell_type": "markdown",
   "id": "a138abb1",
   "metadata": {},
   "source": [
    "## Average normalised correlation across years between UV exposure and Melanoma cases"
   ]
  },
  {
   "cell_type": "code",
   "execution_count": null,
   "id": "776faa4a",
   "metadata": {},
   "outputs": [],
   "source": [
    "correlation_by_year = new_df_org.groupby('State').apply(lambda x: x['uv_exp'].corr(x['Melanoma_cases']))\n",
    "\n",
    "\n",
    "\n",
    "correlation_by_year_df = correlation_by_year.reset_index()\n",
    "correlation_by_year_df.columns = ['State', 'correlation']\n",
    "\n",
    "correlation_by_year_df"
   ]
  },
  {
   "cell_type": "code",
   "execution_count": null,
   "id": "00f3f24c",
   "metadata": {},
   "outputs": [],
   "source": [
    "df_final_cor = geojson.merge(correlation_by_year_df, left_on=\"ste_name\", right_on=\"State\", how=\"outer\") \n",
    "df_final_cor"
   ]
  },
  {
   "cell_type": "code",
   "execution_count": null,
   "id": "4743f7b4",
   "metadata": {},
   "outputs": [],
   "source": [
    "us_map2 = folium.Map(location=[40, -96], zoom_start=4,tiles='openstreetmap')"
   ]
  },
  {
   "cell_type": "code",
   "execution_count": null,
   "id": "829efdbd",
   "metadata": {},
   "outputs": [],
   "source": [
    "custom_scale = (df_final_cor['correlation'].quantile((0,0.2,0.4,0.6,0.8,1))).tolist()\n",
    "folium.Choropleth(\n",
    "            geo_data=geojson,\n",
    "            data=df_final_cor,\n",
    "            columns=['State', 'correlation'],\n",
    "            key_on='feature.properties.ste_name',\n",
    "            fill_color='YlOrRd',\n",
    "            nan_fill_color=\"White\", #Use white color if there is no data available for the county\n",
    "            fill_opacity=0.7,\n",
    "            line_opacity=0.2,\n",
    "            highlight=True,#Here we tell folium to get the county fips and plot new_cases_7days metric for each county\n",
    "            ).add_to(us_map2) \n",
    "us_map2"
   ]
  },
  {
   "cell_type": "code",
   "execution_count": null,
   "id": "f3cc51a4",
   "metadata": {},
   "outputs": [],
   "source": []
  }
 ],
 "metadata": {
  "kernelspec": {
   "display_name": "Python 3 (ipykernel)",
   "language": "python",
   "name": "python3"
  },
  "language_info": {
   "codemirror_mode": {
    "name": "ipython",
    "version": 3
   },
   "file_extension": ".py",
   "mimetype": "text/x-python",
   "name": "python",
   "nbconvert_exporter": "python",
   "pygments_lexer": "ipython3",
   "version": "3.10.9"
  }
 },
 "nbformat": 4,
 "nbformat_minor": 5
}
